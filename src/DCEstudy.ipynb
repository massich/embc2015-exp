{
 "metadata": {
  "name": ""
 },
 "nbformat": 3,
 "nbformat_minor": 0,
 "worksheets": [
  {
   "cells": [
    {
     "cell_type": "markdown",
     "metadata": {},
     "source": [
      "#Dynamic Contrast-Enhanced (DCE) MRI data study\n",
      "\n",
      "DCE MRI is based on an acquisition of a set of T1 Weighted (T1-w) MRI images over time. The Gadolinium-based contrast agent shortens T1 relaxation time enhancing contrast in T1-W MRI images. The aim is to post-analyze the pharmacokinetic behavior of the contrast media concentration in prostate tissues [62]. The image analysis is carried out in two dimensions: (i) in the spatial domain on a pixel-by-pixel basis and (ii) in the time domain corresponding to the consecutive images acquired with the MRI. Thus, for each spatial location, a signal linked to contrast media concentration is measured as shown in Fig. 3[65]. As depicted in Fig. 3(b), CaPs are characterized by a signal having an earlier and faster enhancement as well as an earlier wash-out (cf., the rate of the contrast agent flowing out of the tissue) [62].\n",
      "\n",
      "![img](http://www.sciencedirect.com/cache/MiamiImageURL/1-s2.0-S001048251500058X-gr3_lrg.jpg/0?wchp=dGLzVBA-zSkWA&pii=S001048251500058X)\n",
      "\n",
      "## Idea\n",
      "\n",
      "This data is not aligned between patiens, therefore when computing the features directly the results can be trusted.\n"
     ]
    },
    {
     "cell_type": "code",
     "collapsed": false,
     "input": [
      "# setup some stuff\n",
      "%matplotlib inline\n",
      "%run common.py\n",
      "\n",
      "# load the data\n",
      "from scipy.io import loadmat\n",
      "matfiles = loadmat('../data/raw/all_voxels.mat');\n",
      "data = np.asmatrix(matfiles['data'])\n",
      "label = np.ravel(matfiles['label'])\n",
      "patient_sizes = np.ravel(matfiles['patient_sizes'])"
     ],
     "language": "python",
     "metadata": {},
     "outputs": [],
     "prompt_number": ""
    },
    {
     "cell_type": "markdown",
     "metadata": {},
     "source": [
      "Import the data as a pandas Data-frame. This allow for 'human understandable' indexing and easy plotting"
     ]
    },
    {
     "cell_type": "code",
     "collapsed": false,
     "input": [
      "import pandas as pd"
     ],
     "language": "python",
     "metadata": {},
     "outputs": [],
     "prompt_number": ""
    },
    {
     "cell_type": "code",
     "collapsed": false,
     "input": [
      "def listFlatten(x):\n",
      "    # This is a list flattening work-arround\n",
      "    # http://stackoverflow.com/questions/406121/flattening-a-shallow-list-in-python\n",
      "    return sum(x,[])\n",
      "\n",
      "# Create the data-frame\n",
      "df = pd.DataFrame(data)\n",
      "\n",
      "# Fix the index\n",
      "patientId = listFlatten([[p_ind]*p_size for p_ind, p_size in enumerate(patient_sizes)])\n",
      "sampleId = listFlatten([range(p_size) for p_size in patient_sizes.tolist()])\n",
      "df['patientId'] = pd.Series(patientId, index=df.index)\n",
      "df['sampleId'] = pd.Series(sampleId, index=df.index)\n",
      "df.set_index(['patientId', 'sampleId'], inplace=True)\n",
      "\n",
      "# Fix the columns\n",
      "data_column_name = ['XX', 'YY', 'T2w']+['T{:02d}'.format(x) for x in range(40)]+['ACD']\n",
      "micolumns = pd.MultiIndex(levels=[['info', 'T2w', 'DCE', 'ACD'], data_column_name],\n",
      "                          labels=[[0,0,1]+[2]*40+[3], range(44)],\n",
      "                          names=['lvl0', 'lvl1'])\n",
      "df.columns = micolumns\n",
      "\n",
      "print df.head()\n",
      "df.tail()\n"
     ],
     "language": "python",
     "metadata": {},
     "outputs": [],
     "prompt_number": ""
    },
    {
     "cell_type": "markdown",
     "metadata": {},
     "source": [
      "##Data Analysis for a single pattient\n",
      "This section uses a single pattient in order to get an idea of the data we are dealing with\n",
      "\n",
      "### Pattient 1"
     ]
    },
    {
     "cell_type": "code",
     "collapsed": false,
     "input": [
      "import seaborn as sns\n",
      "sns.set(style=\"darkgrid\")\n",
      "\n",
      "gammas = sns.load_dataset(\"gammas\")\n",
      "sns.tsplot(gammas, \"timepoint\", \"subject\", \"ROI\", \"BOLD signal\")\n",
      "sns.tsplot(df.loc[16,('DCE',slice(None))])"
     ],
     "language": "python",
     "metadata": {},
     "outputs": [],
     "prompt_number": ""
    },
    {
     "cell_type": "code",
     "collapsed": false,
     "input": [
      "df[:3]"
     ],
     "language": "python",
     "metadata": {},
     "outputs": [],
     "prompt_number": ""
    },
    {
     "cell_type": "code",
     "collapsed": false,
     "input": [
      "\n"
     ],
     "language": "python",
     "metadata": {},
     "outputs": [],
     "prompt_number": ""
    },
    {
     "cell_type": "code",
     "collapsed": false,
     "input": [],
     "language": "python",
     "metadata": {},
     "outputs": [],
     "prompt_number": ""
    },
    {
     "cell_type": "code",
     "collapsed": false,
     "input": [],
     "language": "python",
     "metadata": {},
     "outputs": [],
     "prompt_number": ""
    },
    {
     "cell_type": "code",
     "collapsed": false,
     "input": [],
     "language": "python",
     "metadata": {},
     "outputs": [],
     "prompt_number": ""
    }
   ],
   "metadata": {}
  }
 ]
}