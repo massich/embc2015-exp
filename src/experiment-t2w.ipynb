{
 "metadata": {
  "name": ""
 },
 "nbformat": 3,
 "nbformat_minor": 0,
 "worksheets": [
  {
   "cells": [
    {
     "cell_type": "heading",
     "level": 1,
     "metadata": {},
     "source": [
      "Experiments with the T2W-MRI dataset"
     ]
    },
    {
     "cell_type": "code",
     "collapsed": false,
     "input": [
      "%matplotlib inline\n",
      "\n",
      "import matplotlib.pyplot as plt\n",
      "from mpl_toolkits.mplot3d import Axes3D\n",
      "\n",
      "import plotly.plotly as py\n",
      "from plotly.graph_objs import *\n",
      "py.sign_in('glemaitre', 'se04g0bmi2')\n",
      "\n",
      "import mpld3\n",
      "\n",
      "import numpy as np\n",
      "\n",
      "from scipy.stats import norm,rayleigh,rice\n",
      "from scipy.optimize import curve_fit"
     ],
     "language": "python",
     "metadata": {},
     "outputs": [],
     "prompt_number": ""
    },
    {
     "cell_type": "heading",
     "level": 2,
     "metadata": {},
     "source": [
      "Read the data"
     ]
    },
    {
     "cell_type": "code",
     "collapsed": false,
     "input": [
      "from scipy.io import loadmat\n",
      "\n",
      "matfiles = loadmat('../data/raw/all_voxels.mat');\n",
      "\n",
      "data = np.asmatrix(matfiles['data'])\n",
      "data = data.astype(float)\n",
      "label = np.ravel(matfiles['label'])\n",
      "patient_sizes = np.ravel(matfiles['patient_sizes'])"
     ],
     "language": "python",
     "metadata": {},
     "outputs": [],
     "prompt_number": ""
    },
    {
     "cell_type": "markdown",
     "metadata": {},
     "source": [
      "Extract only the T2W data."
     ]
    },
    {
     "cell_type": "code",
     "collapsed": false,
     "input": [
      "data_t2w = np.ravel(data[:, 2])"
     ],
     "language": "python",
     "metadata": {},
     "outputs": [],
     "prompt_number": ""
    },
    {
     "cell_type": "heading",
     "level": 2,
     "metadata": {},
     "source": [
      "Histogram visualisation"
     ]
    },
    {
     "cell_type": "markdown",
     "metadata": {},
     "source": [
      "Class to handle each patient data."
     ]
    },
    {
     "cell_type": "code",
     "collapsed": false,
     "input": [
      "class Patient(object):\n",
      "    def __init__(self, data):\n",
      "        self.data = data.copy()\n",
      "        self.pdf, self.bin_edges = np.histogram(self.data, bins = (np.max(self.data) - np.min(self.data)), density=True)\n",
      "        \n",
      "        self.data_norm = data.copy()\n",
      "        \n",
      "        self.max_int = int(np.max(self.data))\n",
      "        self.min_int = int(np.min(self.data))\n",
      "        \n",
      "        self.mean_data = np.mean(self.data)\n",
      "        self.std_data = np.std(self.data)\n",
      "        \n",
      "        self.rayleigh_params = rayleigh.fit(self.data)\n",
      "        self.gaussian_params = norm.fit(self.data)\n",
      "        #self.rice_params = rice.fit(self.data)"
     ],
     "language": "python",
     "metadata": {},
     "outputs": [],
     "prompt_number": ""
    },
    {
     "cell_type": "markdown",
     "metadata": {},
     "source": [
      "Extract data for each patient."
     ]
    },
    {
     "cell_type": "code",
     "collapsed": false,
     "input": [
      "#Build an histogram for each patient\n",
      "patient_list = [];\n",
      "for pt in range(np.size(patient_sizes)):\n",
      "\n",
      "    if (pt == 0):\n",
      "        start_idx = 0\n",
      "        end_idx = patient_sizes[pt] - 1\n",
      "    else:\n",
      "        start_idx = np.sum(patient_sizes[0 : pt])\n",
      "        end_idx = np.sum(patient_sizes[0 : pt + 1]) - 1\n",
      "        \n",
      "    # Create the patient data\n",
      "    patient_list.append(Patient(data_t2w[start_idx : end_idx]))"
     ],
     "language": "python",
     "metadata": {},
     "outputs": [],
     "prompt_number": ""
    },
    {
     "cell_type": "markdown",
     "metadata": {},
     "source": [
      "Create a heat map. Combine all the histograms properly."
     ]
    },
    {
     "cell_type": "code",
     "collapsed": false,
     "input": [
      "heatmap_z_raw = np.asmatrix(np.zeros((np.size(patient_list), int(np.max(data_t2w)))));\n",
      "\n",
      "heatmap_y = []\n",
      "for pt in range (np.size(patient_list)):\n",
      "    str_pt = 'Pt ' + str(pt) + ' '\n",
      "    heatmap_y.append(str_pt)\n",
      "    heatmap_z_raw[pt, range(patient_list[pt].min_int, patient_list[pt].max_int)] = patient_list[pt].pdf[:]\n",
      "    \n",
      "plot_data = Data([Heatmap(z=heatmap_z_raw, y=heatmap_y, colorscale='Jet')])\n",
      "#layout = Layout(margin=Margin(l=0, r=0, b=0, t=0))\n",
      "\n",
      "# Define a figure\n",
      "fig = Figure(data=plot_data)\n",
      "py.iplot(fig, filename='heatmap-t2w')"
     ],
     "language": "python",
     "metadata": {},
     "outputs": [],
     "prompt_number": ""
    },
    {
     "cell_type": "heading",
     "level": 2,
     "metadata": {},
     "source": [
      "Histogram visualisation - Rayleigh distribution"
     ]
    },
    {
     "cell_type": "heading",
     "level": 3,
     "metadata": {},
     "source": [
      "Fitting on data"
     ]
    },
    {
     "cell_type": "markdown",
     "metadata": {},
     "source": [
      "We can observed the same data by fitting a Rayleigh distribution."
     ]
    },
    {
     "cell_type": "code",
     "collapsed": false,
     "input": [
      "heatmap_z_rayleigh = np.asmatrix(np.zeros((np.size(patient_list), int(np.max(data_t2w)))))\n",
      "\n",
      "heatmap_y = []\n",
      "for pt in range (np.size(patient_list)):\n",
      "    str_pt = 'Pt ' + str(pt) + ' '\n",
      "    heatmap_y.append(str_pt)\n",
      "    heatmap_z_rayleigh[pt, :] = rayleigh.pdf(range(int(np.max(data_t2w))), \\\n",
      "                                    loc=patient_list[pt].rayleigh_params[0], \\\n",
      "                                    scale=patient_list[pt].rayleigh_params[1])\n",
      "    \n",
      "plot_data = Data([Heatmap(z=heatmap_z_rayleigh, y=heatmap_y, colorscale='Jet')])\n",
      "#layout = Layout(margin=Margin(l=0, r=0, b=0, t=0))\n",
      "\n",
      "# Define a figure\n",
      "fig = Figure(data=plot_data)\n",
      "py.iplot(fig, filename='heatmap-t2w-fitted')"
     ],
     "language": "python",
     "metadata": {},
     "outputs": [],
     "prompt_number": ""
    },
    {
     "cell_type": "heading",
     "level": 2,
     "metadata": {},
     "source": [
      "Histogram visualisation - Normal distribution"
     ]
    },
    {
     "cell_type": "markdown",
     "metadata": {},
     "source": [
      "We can observed the same data by fitting a Normal distribution."
     ]
    },
    {
     "cell_type": "code",
     "collapsed": false,
     "input": [
      "heatmap_z_gaussian = np.asmatrix(np.zeros((np.size(patient_list), int(np.max(data_t2w)))));\n",
      "\n",
      "heatmap_y = []\n",
      "for pt in range (np.size(patient_list)):\n",
      "    str_pt = 'Pt ' + str(pt) + ' '\n",
      "    heatmap_y.append(str_pt)\n",
      "    heatmap_z_gaussian[pt, :] = norm.pdf(range(int(np.max(data_t2w))), \\\n",
      "                                    loc=patient_list[pt].gaussian_params[0], \\\n",
      "                                    scale=patient_list[pt].gaussian_params[1])\n",
      "    \n",
      "plot_data = Data([Heatmap(z=heatmap_z_gaussian, y=heatmap_y, colorscale='Jet')])\n",
      "#layout = Layout(margin=Margin(l=0, r=0, b=0, t=0))\n",
      "\n",
      "# Define a figure\n",
      "fig = Figure(data=plot_data)\n",
      "py.iplot(fig, filename='heatmap-t2w-fitted')"
     ],
     "language": "python",
     "metadata": {},
     "outputs": [],
     "prompt_number": ""
    },
    {
     "cell_type": "heading",
     "level": 2,
     "metadata": {},
     "source": [
      "Histogram visualisation - Rice distribution"
     ]
    },
    {
     "cell_type": "markdown",
     "metadata": {},
     "source": [
      "Define the Rice distribution"
     ]
    },
    {
     "cell_type": "markdown",
     "metadata": {},
     "source": [
      "The paremeters which will be optimised are the following:\n",
      "\n",
      "* The amplitude a\n",
      "* The start of the curve b\n",
      "* The mean loc\n",
      "* the standard deviation sca"
     ]
    },
    {
     "cell_type": "markdown",
     "metadata": {},
     "source": [
      "# Normalize the data by fitting a rice function\n",
      "\n",
      "Data normalization can be done using parametric distributions. For a given distribution, the data of every sample (image in this case) is used to determine the best fitting parameters. If all the samples were lying on the same plane, the fitted parameters should be quite similar. \n",
      "\n",
      "To force this, the parametric distribution is fitted to each sample and then all the sample parameters are forced to be equal.\n",
      "\n",
      "For MRI rice distribution should be used: http://www.ncbi.nlm.nih.gov/pmc/articles/PMC2254141/\n",
      "\n",
      "The rice function ... bla bla starts like Rayleigh and ends up like a gaussian.\n",
      "\n",
      "![riceWikiImg](http://upload.wikimedia.org/wikipedia/commons/a/a0/Rice_distributiona_PDF.png)\n",
      "\n",
      "## Normalization procedure\n",
      "\n",
      "0. Ensure that all the patients historgrams have the same amound of beams\n",
      "1. Fit a Rice to the patient.pdf\n",
      "2. Modify the patient data:\n",
      "\n",
      "    * Patient offset\n",
      "    * Fitted mean alignment\n",
      "    * Fitted width alignment"
     ]
    },
    {
     "cell_type": "code",
     "collapsed": false,
     "input": [
      "from collections import namedtuple\n",
      "def myRice(x, factor, v, shift, std):\n",
      "    return factor * rice.pdf(x, v, shift, std)\n",
      "\n",
      "riceParameters = namedtuple('riceParameters',\n",
      "                            ['factor', 'v', 'shift', 'std'])"
     ],
     "language": "python",
     "metadata": {},
     "outputs": [],
     "prompt_number": ""
    },
    {
     "cell_type": "heading",
     "level": 4,
     "metadata": {},
     "source": [
      "Normalization Procedure (1. All patients with equal num. of beams)"
     ]
    },
    {
     "cell_type": "code",
     "collapsed": false,
     "input": [
      "## Remake the patients histograms\n",
      "# Notice that all the bims for all the patients have the same size\n",
      "db_min_intensity = min([p.min_int for p in patient_list])\n",
      "db_max_intensity = max([p.max_int for p in patient_list])\n",
      "\n",
      "#xx = [np.zeros((p.min_int)-db_min_intensity) for p in patient_list]\n",
      "#pp = [p.pdf for p in patient_list]\n",
      "#yy = [len(p.pdf)+p.min_int for p in patient_list]\n",
      "#\n",
      "#[(p.min_int, len(p.pdf), len(p.pdf)+p.min_int) for p in patient_list]\n",
      "   \n",
      "## Remake the patients histograms\n",
      "# Notice that all the bims for all the patients have the same size\n",
      "# (USING PREVIOUSLY COMPUTED STUFF)\n",
      "for ind, patient in enumerate(patient_list):\n",
      "    patient.pdf = np.squeeze(np.asarray(heatmap_z_raw[ind,:]))\n",
      "    patient.bin_edges = np.array(range(db_max_intensity))"
     ],
     "language": "python",
     "metadata": {},
     "outputs": [],
     "prompt_number": ""
    },
    {
     "cell_type": "heading",
     "level": 4,
     "metadata": {},
     "source": [
      "Normalization Procedure 2. (Fit a rice distribution)"
     ]
    },
    {
     "cell_type": "code",
     "collapsed": false,
     "input": [
      "# Obtine rice Fitting parameters\n",
      "def get_rice_initial_parameters(patient):\n",
      "    v = patient.gaussian_params[0]/db_max_intensity\n",
      "    std = patient.gaussian_params[1]/db_max_intensity\n",
      "    loc = np.float64(patient.min_int)/db_max_intensity\n",
      "    factor = max(patient.pdf)/norm.pdf(v, v, std)\n",
      "    return riceParameters(factor, v, loc, std)\n",
      "\n",
      "rice_init = [get_rice_initial_parameters(p) for p in patient_list]\n",
      "rice_fitted_param = []\n",
      "rice_fiting_error = []\n",
      "for patient, param0 in zip(patient_list, rice_init):\n",
      "    popt, pcov = curve_fit(myRice,\n",
      "                           np.linspace(0, 1., len(patient.pdf)),\n",
      "                           patient.pdf,\n",
      "                           p0=(param0.factor, param0.v,\n",
      "                               param0.shift, param0.std))\n",
      "    rice_fitted_param.append(riceParameters(popt[0], popt[1], popt[2], popt[3],))\n",
      "    rice_fiting_error.append(pcov)    "
     ],
     "language": "python",
     "metadata": {},
     "outputs": [],
     "prompt_number": ""
    },
    {
     "cell_type": "code",
     "collapsed": false,
     "input": [
      "def output_msg(init, fitted):\n",
      "    output_line = \"{0:24s} ---> {1}:{2}\\n\"\n",
      "    msg = \"\\n    initialization \\t\\t fitted\\n\"\n",
      "    for param_name in riceParameters._fields:\n",
      "        msg = msg+(output_line.format(\n",
      "            param_name+': '+eval('\"{0}\".format(init.'+'{0:s}'.format(param_name)+')'),\n",
      "            param_name,\n",
      "            eval('\"{0}\".format(fitted.'+'{0:s}'.format(param_name)+')')))\n",
      "    return msg\n",
      "\n",
      "#selected_patients = range(len(patient_list))\n",
      "#selected_patients = range(2)\n",
      "for patient, p0, pFit, fitErr in zip(patient_list,\n",
      "                                     rice_init,\n",
      "                                     rice_fitted_param,\n",
      "                                     rice_fiting_error):\n",
      "    print output_msg(p0, pFit)\n",
      "    #print fitErr\n",
      "    plt.figure()\n",
      "    x = np.linspace(0, 1., len(patient.pdf))\n",
      "    plt.plot(x, patient.pdf, label='data')\n",
      "    for p,l in zip((p0, pFit), ('init', 'fitted')):\n",
      "        plt.plot(x, myRice(x, p.factor, p.v, p.shift, p.std), label=l)\n",
      "    plt.legend()\n",
      "    plt.show()\n",
      "    "
     ],
     "language": "python",
     "metadata": {},
     "outputs": [],
     "prompt_number": ""
    },
    {
     "cell_type": "heading",
     "level": 4,
     "metadata": {},
     "source": [
      "Normalization procedure 3. (modify the patient data)"
     ]
    },
    {
     "cell_type": "markdown",
     "metadata": {},
     "source": [
      "In order to determine, the data transformation all the fitted distributions should be studied"
     ]
    },
    {
     "cell_type": "code",
     "collapsed": false,
     "input": [
      "plt.figure()\n",
      "for indx, param in enumerate(rice_fitted_param):\n",
      "    x = np.linspace(0, 1., 1000)\n",
      "    plt.plot(x,\n",
      "             myRice(x, param.factor, param.v, param.shift, param.std),\n",
      "             label=indx)\n",
      "plt.legend()\n",
      "plt.show()"
     ],
     "language": "python",
     "metadata": {},
     "outputs": [],
     "prompt_number": ""
    },
    {
     "cell_type": "code",
     "collapsed": false,
     "input": [
      "import pandas as pd\n",
      "df = pd.DataFrame({'v' : [p.v for p in rice_fitted_param],\n",
      "                   'factor' : [p.factor for p in rice_fitted_param],\n",
      "                   'shift' : [p.shift for p in rice_fitted_param], \n",
      "                   'std' : [p.std for p in rice_fitted_param],\n",
      "                   'patient' : range(len(rice_fitted_param))})\n",
      "#                   'patient' : ['p{0:02d}'.format(p) for p in range(len(rice_fitted_param))]})\n",
      "import numpy as np\n",
      "import pandas as pd\n",
      "import seaborn as sns\n",
      "from scipy import stats\n",
      "import matplotlib as mpl\n",
      "import matplotlib.pyplot as plt\n",
      "\n",
      "g = sns.PairGrid(df, hue=\"patient\", size=2.5\n",
      "                )\n",
      "                 #vars=[\"factor\", \"shift\", \"v\", \"std\"])\n",
      "g.map_offdiag(plt.scatter)\n",
      "g.map_diag(plt.hist)"
     ],
     "language": "python",
     "metadata": {},
     "outputs": [],
     "prompt_number": ""
    },
    {
     "cell_type": "markdown",
     "metadata": {},
     "source": [
      "Scales need to be worked out to see the variability otherwise only two groups are spotted. the almost gaussian and the raylengh\n",
      "\n",
      "```\n",
      "#axes = g.axes\n",
      "#[[axes[ii,jj].get_xlim() for ii in range(4)] for jj in range(4)]\n",
      "#axes[1,1].set_xlim(-0.005,0.005)\n",
      "#axes.shape\n",
      "\n",
      "g.add_legend(range(17))\n",
      "```"
     ]
    },
    {
     "cell_type": "code",
     "collapsed": false,
     "input": [
      "# Repeat without the Gaussian-alike distribution.\n",
      "g = sns.PairGrid(df[df.patient!=3], hue=\"patient\", size=2.5\n",
      "                )\n",
      "                 #vars=[\"factor\", \"shift\", \"v\", \"std\"])\n",
      "g.map_offdiag(plt.scatter)\n",
      "g.map_diag(plt.hist)\n"
     ],
     "language": "python",
     "metadata": {},
     "outputs": [],
     "prompt_number": ""
    },
    {
     "cell_type": "markdown",
     "metadata": {},
     "source": [
      "take a look at the following realtions:\n",
      "\n",
      "* shift-std\n",
      "* patient-std\n",
      "* v-(std/shift)"
     ]
    },
    {
     "cell_type": "heading",
     "level": 5,
     "metadata": {},
     "source": [
      "Bring all the parametric distributions under the same light"
     ]
    },
    {
     "cell_type": "code",
     "collapsed": false,
     "input": [
      "fig, ax = plt.subplots(ncols=3, nrows=1, figsize=(10,4))\n",
      "for indx, param in enumerate(rice_fitted_param):\n",
      "    ax[0].plot(np.linspace(0, 1., 1000),\n",
      "                  myRice(np.linspace(0, 1., 1000), \n",
      "                         param.factor, param.v, param.shift, param.std),\n",
      "                  label=indx)\n",
      "    ax[1].plot(np.linspace(-2, 8, 1000),\n",
      "                  myRice(np.linspace(-2, 8, 1000) * param.std + \n",
      "                         rice.mean(b=param.v, loc=param.shift, scale=param.std),\n",
      "                         factor=param.factor, \n",
      "                         v=param.v, \n",
      "                         shift=param.shift, \n",
      "                         std=param.std),\n",
      "                  label=indx)\n",
      "    ax[2].plot(np.linspace(-2, 8, 1000),\n",
      "                  myRice((np.linspace(-2, 8, 1000)+ \n",
      "                         rice.mean(b=param.v, loc=param.shift, scale=param.std))* param.std ,\n",
      "                         factor=param.factor, \n",
      "                         v=param.v, \n",
      "                         shift=param.shift, \n",
      "                         std=param.std),\n",
      "                  label=indx)\n",
      "\n",
      "ax[0].legend()\n",
      "\n",
      "\n",
      "print \"\"\" The problem is that rice.mean returnes mu*Scale,\n",
      "          Therefore, in graph 3 when (x+mu)*Scale is used all the distributions are\n",
      "          shifted since (x*Scale) + (mu*Scale*Scale) is used insted\"\"\"\n",
      "\n",
      "mpld3.display(fig)"
     ],
     "language": "python",
     "metadata": {},
     "outputs": [],
     "prompt_number": ""
    },
    {
     "cell_type": "markdown",
     "metadata": {},
     "source": [
      "Now that we know how to align the fitted models, we want to translate the data to the same light based on the alignment of its fitted models"
     ]
    },
    {
     "cell_type": "code",
     "collapsed": false,
     "input": [
      "normalizing = lambda x,muS, S: (x-muS)/S\n",
      "denormalizing = lambda x,muS, S: x*S+muS\n",
      "\n",
      "for patient, pFit in zip(patient_list,\n",
      "                         rice_fitted_param):\n",
      "    # Poting the original Space\n",
      "    fig, ax = plt.subplots(ncols=2, nrows=1, figsize=(20,10))\n",
      "    x = np.linspace(0, 1., len(patient.pdf))\n",
      "    ax[0].plot(x, patient.pdf, label='data')\n",
      "    ax[0].plot(x, myRice(x, pFit.factor, pFit.v, pFit.shift, pFit.std), label='fitted')\n",
      "    ax[0].set_title('Original Space')\n",
      "    ax[0].legend()\n",
      "    \n",
      "    # Plotting the Normalized Space\n",
      "    for indx, param in enumerate(rice_fitted_param):\n",
      "        muS = rice.mean(b=param.v, loc=param.shift, scale=param.std)\n",
      "        S = param.std\n",
      "        x2 = (x-muS)/S\n",
      "        ax[1].plot(x2,\n",
      "                   myRice(x2*S+muS,\n",
      "                          factor=param.factor, \n",
      "                          v=param.v, \n",
      "                          shift=param.shift, \n",
      "                          std=param.std),\n",
      "                   color='r', alpha=0.2)\n",
      "    # Ploting normalized PDF\n",
      "    current_muS = rice.mean(b=pFit.v, loc=pFit.shift, scale=pFit.std)\n",
      "    current_S = pFit.std\n",
      "    print pFit\n",
      "    print current_muS\n",
      "    ax[1].plot(normalizing(x, current_muS, current_S),patient.pdf)        \n",
      "    \n",
      "    \n",
      "    plt.show()        \n",
      "    \n"
     ],
     "language": "python",
     "metadata": {},
     "outputs": [],
     "prompt_number": ""
    },
    {
     "cell_type": "code",
     "collapsed": false,
     "input": [
      "for patient, pFit in zip((patient_list[0], patient_list[3]),\n",
      "                         (rice_fitted_param[0], rice_fitted_param[3])\n",
      "                         ):\n",
      "    \n",
      "    # Poting the original Space\n",
      "    fig, ax = plt.subplots(ncols=2, nrows=1, figsize=(20,10))\n",
      "    x = np.linspace(0, 1., len(patient.pdf))\n",
      "    ax[0].plot(x, patient.pdf, label='data')\n",
      "    ax[0].plot(x, myRice(x, pFit.factor, pFit.v, pFit.shift, pFit.std), label='fitted')\n",
      "    ax[0].set_title('Original Space')\n",
      "    ax[0].legend()\n",
      "        \n",
      "    # Plotting the Normalized Space\n",
      "    for indx, param in enumerate(rice_fitted_param):\n",
      "        muS = rice.mean(b=param.v, loc=param.shift, scale=param.std)\n",
      "        S = param.std\n",
      "        x2 = (x-muS)/S\n",
      "        ax[1].plot(x2,\n",
      "                   myRice(x2*S+muS,\n",
      "                          factor=param.factor, \n",
      "                          v=param.v, \n",
      "                          shift=param.shift, \n",
      "                          std=param.std),\n",
      "                    color='r', alpha=0.2)\n",
      "        \n",
      "    # Ploting normalized PDF\n",
      "    current_muS = rice.mean(b=pFit.v, loc=pFit.shift, scale=pFit.std)\n",
      "    current_S = pFit.std\n",
      "    print pFit\n",
      "    print 'scipy mean: {0}'.format(current_muS)\n",
      "    \n",
      "    print 'gaussian parameters: {0}'.format(np.divide(patient.gaussian_params,1214.))\n",
      "    \n",
      "    current_muS = rice.mean(b=(pFit.v) + (pFit.shift/pFit.std), loc=0., scale=pFit.std)\n",
      "    current_S = pFit.std\n",
      "    print 'scipy mean: {0}'.format(current_muS)\n",
      "    \n",
      "    \n",
      "    print '\\nexp( {0} )\\n'.format(-pFit.v**2/(2*pFit.std**2))\n",
      "    \n",
      "    #print 'scipy var: {0}'.format(rice.var(b=pFit.v, loc=pFit.shift, scale=pFit.std))\n",
      "    #print 'man var: {0}'.format(2*pFit.std**2 + pFit.v**2)\n",
      "    mu2 = 2*pFit.std**2 + pFit.v**2\n",
      "    print 'mu2: {0}'.format(mu2)\n",
      "    \n",
      "    #current_muS = rice.mean(b=pFit.v/.001, loc=0., scale=1.)\n",
      "    #print 'NTB mean: {0}'.format(current_muS)\n",
      "    #print 'NTB mean: {0}'.format(current_muS*m2)\n",
      "    \n",
      "    \n",
      "    #print 'relation: {0}'.format(pFit.v**2/pFit.std**2)\n",
      "    \n",
      "    # Ploting normalized PDF\n",
      "    current_muS = rice.mean(b=pFit.v, loc=pFit.shift, scale=pFit.std)\n",
      "    current_S = pFit.std\n",
      "    ax[1].plot(normalizing(x, current_muS, current_S),patient.pdf)  \n",
      "    \n",
      "    #ax[1].plot(normalizing(x, current_muS*m2, current_S),patient.pdf)  \n",
      "    #ax[1].plot( x\n",
      "    #           , myRice(x/m2, pFit.factor, pFit.v, pFit.shift, pFit.std), label='fitted')\n",
      "        \n",
      "    plt.show()        \n"
     ],
     "language": "python",
     "metadata": {},
     "outputs": [],
     "prompt_number": ""
    },
    {
     "cell_type": "code",
     "collapsed": false,
     "input": [
      "#Problem explanation\n"
     ],
     "language": "python",
     "metadata": {},
     "outputs": [],
     "prompt_number": ""
    },
    {
     "cell_type": "code",
     "collapsed": false,
     "input": [
      "transform = lambda x,p: x* p.std + rice.mean(b=p.v, loc=p.shift, scale=p.std)\n",
      "transformed_data = [ transform(patient.data/db_max_intensity,param) for patient, param in zip(patient_list, rice_fitted_param)]\n",
      "t_data_min = min([ min(d) for d in transformed_data])\n",
      "t_data_max = max([ max(d) for d in transformed_data])\n",
      "\n",
      "for op, val in zip(('minimum', 'maximum'), (t_data_min, t_data_max)):\n",
      "    print \"{0} transformed intensity = {1}\".format(op, val)\n",
      "    \n",
      "stretch = lambda x: (x-t_data_min) / (t_data_max-t_data_min)\n",
      "normalized_data = [ stretch(d) for d in transformed_data ]\n",
      "t_data_min = min([ min(d) for d in normalized_data])\n",
      "t_data_max = max([ max(d) for d in normalized_data])\n",
      "for op, val in zip(('minimum', 'maximum'), (t_data_min, t_data_max)):\n",
      "    print \"{0} normalized intensity = {1}\".format(op, val)"
     ],
     "language": "python",
     "metadata": {},
     "outputs": [],
     "prompt_number": ""
    },
    {
     "cell_type": "code",
     "collapsed": false,
     "input": [
      "nbeam=80\n",
      "heatmap_z_norm = np.asmatrix(np.zeros((np.size(patient_list), nbeam)));\n",
      "for pt in range (np.size(patient_list)):\n",
      "    str_pt = 'Pt ' + str(pt) + ' '\n",
      "    heatmap_y.append(str_pt)\n",
      "    xx, yy = np.histogram(normalized_data[pt], bins = nbeam, density=True)\n",
      "#    print xx.shape\n",
      "    heatmap_z_norm[pt, :] = xx/sum(xx)\n",
      "    \n",
      "#    np.histogram(normalized_data[pt], bins = 1200, density=True)\n",
      "\n",
      "plot_data = Data([Heatmap(z=heatmap_z_norm, y=heatmap_y, colorscale='Jet')])\n",
      "fig = Figure(data=plot_data)\n",
      "py.iplot(fig, filename='heatmap-t2w')"
     ],
     "language": "python",
     "metadata": {},
     "outputs": [],
     "prompt_number": ""
    },
    {
     "cell_type": "code",
     "collapsed": false,
     "input": [
      "for indx, patient, pFit in zip(range(len(patient_list)),\n",
      "                               patient_list,\n",
      "                               rice_fitted_param):\n",
      "    #print output_msg(p0, pFit)\n",
      "    #print fitErr\n",
      "    fig, ax = plt.subplots(ncols=2, nrows=1, figsize=(10,10))\n",
      "    x = np.linspace(0, 1., len(patient.pdf))\n",
      "    ax[0].plot(x, patient.pdf, label='data')\n",
      "    ax[0].plot(x, myRice(x, pFit.factor, pFit.v, pFit.shift, pFit.std), label='fitted')\n",
      "    x2 = np.linspace(0, 1, nbeam)\n",
      "    ax[0].plot(x2, np.squeeze(np.asarray(heatmap_z_norm[indx,:])), label='norm_data')\n",
      "    #ax[0].plot(x2, myRice(x2*p.std + rice.mean(b=pFit.v, loc=pFit.shift, scale=pFit.std),\n",
      "    #                    factor=pFit.factor, \n",
      "    #                    v=pFit.v, \n",
      "    #                    shift=pFit.shift, \n",
      "    #                    std=pFit.std),\n",
      "    #         label='norm_param_dist')\n",
      "    x3 = np.linspace(-2, 5, nbeam)    \n",
      "    ax[0].plot(x2, myRice(x3*p.std + rice.mean(b=pFit.v, loc=pFit.shift, scale=pFit.std),\n",
      "                        factor=pFit.factor, \n",
      "                        v=pFit.v, \n",
      "                        shift=pFit.shift, \n",
      "                        std=pFit.std),\n",
      "             label='norm_param_dist')\n",
      "    \n",
      "    \n",
      "    plt.legend()\n",
      "    plt.show()"
     ],
     "language": "python",
     "metadata": {},
     "outputs": [],
     "prompt_number": ""
    },
    {
     "cell_type": "code",
     "collapsed": false,
     "input": [
      "for indx, patient, pFit in zip(range(len(patient_list)),\n",
      "                               patient_list,\n",
      "                               rice_fitted_param):\n",
      "    #print output_msg(p0, pFit)\n",
      "    #print fitErr\n",
      "    plt.figure()\n",
      "    x = np.linspace(0, 1., len(patient.pdf))\n",
      "    plt.plot(x, patient.pdf, label='data')\n",
      "    plt.plot(x, myRice(x, pFit.factor, pFit.v, pFit.shift, pFit.std), label='fitted')\n",
      "    x2 = np.linspace(0, 1, nbeam)\n",
      "    plt.plot(x2, np.squeeze(np.asarray(heatmap_z_norm[indx,:])), label='norm_data')\n",
      "    plt.plot(x2, myRice(x2*p.std + rice.mean(b=pFit.v, loc=pFit.shift, scale=pFit.std),\n",
      "                        factor=pFit.factor, \n",
      "                        v=pFit.v, \n",
      "                        shift=pFit.shift, \n",
      "                        std=pFit.std),\n",
      "             label='norm_param_dist')\n",
      "    \n",
      "    plt.legend()\n",
      "    plt.show()"
     ],
     "language": "python",
     "metadata": {},
     "outputs": [],
     "prompt_number": ""
    },
    {
     "cell_type": "heading",
     "level": 2,
     "metadata": {},
     "source": [
      "Apply the normalisation"
     ]
    },
    {
     "cell_type": "markdown",
     "metadata": {},
     "source": [
      "Using the Rice distribution, let's normalized such as $f_{norm}(x) = \\frac{f(x) - (b - \\mu)}{\\sigma}$."
     ]
    },
    {
     "cell_type": "code",
     "collapsed": false,
     "input": [
      "    x2 = np.linspace(-3, 8, 1000)\n",
      "    for indx, param in enumerate(rice_fitted_param):\n",
      "        ax[1].plot(x2,\n",
      "                   myRice(x2*param.std + \n",
      "                          rice.mean(b=param.v, loc=param.shift, scale=param.std),\n",
      "                          factor=param.factor, \n",
      "                          v=param.v, \n",
      "                          shift=param.shift, \n",
      "                          std=param.std),\n",
      "                   color='r', alpha=0.2)heatmap_z_norm = np.asmatrix(np.zeros((np.size(patient_list), np.max(data_t2w))))\n",
      "\n",
      "heatmap_y = []\n",
      "# Normalise for each patient\n",
      "for pt in range(np.size(patient_list)):\n",
      "    \n",
      "    # Normmalise the data\n",
      "    scale_factor = np.max(data_t2w)\n",
      "    # Compute the mean from the Rice parameter\n",
      "    lag_x = - (params_rice[pt][1]**2 / (2 * params_rice[pt][2]**2))\n",
      "    mean_rice = params_rice[pt][2] * np.sqrt(np.pi / 2.) * np.exp(lag_x / 2) * ((1 - lag_x) * iv(0, - lag_x / 2.) - lag_x * iv(1, - lag_x / 2.))\n",
      "    print mean_rice\n",
      "    # Remove the offset factor\n",
      "    patient_list[pt].data_norm = patient_list[pt].data - scale_factor * params_rice[pt][3]\n",
      "    # Substract the mean\n",
      "    patient_list[pt].data_norm = patient_list[pt].data_norm - scale_factor * (params_rice[pt][1] / params_rice[pt][2])\n",
      "    #patient_list[pt].data_norm\n",
      "    #patient_list[pt].data_norm /= params_rice[pt][3]\n",
      "    #patient_list[pt].data_norm *= params_rice[pt][0]\n",
      "    \n",
      "    print patient_list[pt].data_norm\n",
      "    \n",
      "    #print patient_list[pt].data_norm\n",
      "    #print np.min(patient_list[pt].data_norm)\n",
      "    #print np.max(patient_list[pt].data_norm)\n",
      "    \n",
      "    fig = plt.figure()\n",
      "    \n",
      "    n_bins = int(np.max(patient_list[pt].data_norm)) - int(np.min(patient_list[pt].data_norm))\n",
      "    pdf, bin_edges = np.histogram(patient_list[pt].data_norm, bins = (np.max(patient_list[pt].data) - np.min(patient_list[pt].data)), density=True)\n",
      "    plt.show()\n",
      "    \n",
      "    #heatmap_z_norm[pt, :] = n_bins\n",
      "    \n",
      "#plot_data = Data([Heatmap(z=heatmap_z_norm, colorscale='Jet')])\n",
      "#layout = Layout(margin=Margin(l=0, r=0, b=0, t=0))\n",
      "\n",
      "# Define a figure\n",
      "#fig = Figure(data=plot_data)\n",
      "#py.iplot(fig, filename='heatmap-t2w-norm')\n",
      "    "
     ],
     "language": "python",
     "metadata": {},
     "outputs": [],
     "prompt_number": ""
    },
    {
     "cell_type": "code",
     "collapsed": false,
     "input": [
      "%connect_info"
     ],
     "language": "python",
     "metadata": {},
     "outputs": [],
     "prompt_number": ""
    },
    {
     "cell_type": "code",
     "collapsed": false,
     "input": [],
     "language": "python",
     "metadata": {},
     "outputs": []
    }
   ],
   "metadata": {}
  }
 ]
}